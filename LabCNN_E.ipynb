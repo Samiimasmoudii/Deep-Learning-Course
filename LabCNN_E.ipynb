{
  "nbformat": 4,
  "nbformat_minor": 0,
  "metadata": {
    "colab": {
      "provenance": [],
      "include_colab_link": true
    },
    "kernelspec": {
      "name": "python3",
      "display_name": "Python 3"
    },
    "language_info": {
      "name": "python"
    }
  },
  "cells": [
    {
      "cell_type": "markdown",
      "metadata": {
        "id": "view-in-github",
        "colab_type": "text"
      },
      "source": [
        "<a href=\"https://colab.research.google.com/github/Samiimasmoudii/Deep-Learning-Course/blob/main/LabCNN_E.ipynb\" target=\"_parent\"><img src=\"https://colab.research.google.com/assets/colab-badge.svg\" alt=\"Open In Colab\"/></a>"
      ]
    },
    {
      "cell_type": "markdown",
      "source": [
        "**Création du modèle CNN**"
      ],
      "metadata": {
        "id": "5RUukk-BmvE2"
      }
    },
    {
      "cell_type": "code",
      "execution_count": null,
      "metadata": {
        "id": "IwvcZPpcmdIY"
      },
      "outputs": [],
      "source": [
        "# Importation des bibliothèques nécessaires de TensorFlow Keras\n",
        "from tensorflow.keras.models import Sequential  # Pour créer des modèles séquentiels\n",
        "from tensorflow.keras.layers import Dense, Flatten, Conv2D, MaxPooling2D  # Pour les différentes couches du réseau\n",
        "import matplotlib.pyplot as plt\n"
      ]
    },
    {
      "cell_type": "code",
      "source": [
        "# Création d'un modèle séquentiel\n",
        "?"
      ],
      "metadata": {
        "id": "16tJVylCnQzi"
      },
      "execution_count": null,
      "outputs": []
    },
    {
      "cell_type": "code",
      "source": [
        "# Ajout de la première couche convolutionnelle avec 32 filtres, une taille de noyau de 3x3, activation ReLU, et forme d'entrée 28x28x1 (images MNIST en niveaux de gris)\n",
        "model.add(Conv2D(?, kernel_size=(?, ?), activation=?, input_shape=(?, ?, ?)))"
      ],
      "metadata": {
        "id": "002YjCnZshOr"
      },
      "execution_count": null,
      "outputs": []
    },
    {
      "cell_type": "code",
      "source": [
        "# Ajout d'une couche de pooling maximal avec une taille de pool de 2x2 pour réduire la dimensionnalité\n",
        "model.add(?)"
      ],
      "metadata": {
        "id": "f2r-BQAmnoin"
      },
      "execution_count": null,
      "outputs": []
    },
    {
      "cell_type": "code",
      "source": [
        "# Ajout d'une couche de mise à plat pour transformer les matrices de caractéristiques en vecteurs\n",
        "model.add(?)"
      ],
      "metadata": {
        "id": "Lp_9XWEqn7x7"
      },
      "execution_count": null,
      "outputs": []
    },
    {
      "cell_type": "code",
      "source": [
        "# Ajout d'une couche dense entièrement connectée avec 128 neurones et activation ReLU\n",
        "model.add(?)"
      ],
      "metadata": {
        "id": "7Z1gEMQ5oIpP"
      },
      "execution_count": null,
      "outputs": []
    },
    {
      "cell_type": "code",
      "source": [
        "# Ajout de la couche de sortie dense avec 10 neurones (pour les 10 classes de chiffres MNIST) et activation softmax pour la classification\n",
        "model.add(?)"
      ],
      "metadata": {
        "id": "UL40nul_ob32"
      },
      "execution_count": null,
      "outputs": []
    },
    {
      "cell_type": "code",
      "source": [
        "# Compilation du modèle avec l'optimiseur Adam, la perte catégorielle croisée et la métrique de précision\n",
        "model.compile(?)"
      ],
      "metadata": {
        "id": "b7elnN9eow2k"
      },
      "execution_count": null,
      "outputs": []
    },
    {
      "cell_type": "code",
      "source": [
        "# Affichage du résumé du modèle pour voir l'architecture et les paramètres\n",
        "model.summary()"
      ],
      "metadata": {
        "id": "2K2bUfCTpFI9"
      },
      "execution_count": null,
      "outputs": []
    },
    {
      "cell_type": "code",
      "source": [
        "# Chargement des données MNIST et prétraitement\n",
        "from tensorflow.keras.datasets import mnist  # Importation du jeu de données MNIST\n",
        "from tensorflow.keras.utils import to_categorical  # Pour convertir les labels en format one-hot\n"
      ],
      "metadata": {
        "id": "WEgs9wzipLSv"
      },
      "execution_count": null,
      "outputs": []
    },
    {
      "cell_type": "code",
      "source": [
        "# Chargement des données d'entraînement et de test\n",
        "(?, ?), (?, ?) = mnist.?"
      ],
      "metadata": {
        "id": "CQV2bm1gpdTF"
      },
      "execution_count": null,
      "outputs": []
    },
    {
      "cell_type": "code",
      "source": [
        "# Redimensionnement des images en ajoutant une dimension de canal et normalisation des valeurs de pixels à l'échelle [0, 1]\n",
        "x_train = x_train.reshape(-1, 28, 28, 1).astype('float32') / 255\n",
        "x_test = x_test.reshape(-1, 28, 28, 1).astype('float32') / 255"
      ],
      "metadata": {
        "id": "e2UJ5N-Apuya"
      },
      "execution_count": null,
      "outputs": []
    },
    {
      "cell_type": "code",
      "source": [
        "# Conversion des labels en format one-hot\n",
        "y_train = to_categorical(y_train, 10)\n",
        "y_test = to_categorical(y_test, 10)"
      ],
      "metadata": {
        "id": "zLcRzFOjp9jT"
      },
      "execution_count": null,
      "outputs": []
    },
    {
      "cell_type": "code",
      "source": [
        "# Entraînement du modèle sur les données d'entraînement avec une taille de batch de 128 et pour 10 époques\n",
        "history = model.fit(?)"
      ],
      "metadata": {
        "id": "hfPw9u1pqKVL"
      },
      "execution_count": null,
      "outputs": []
    },
    {
      "cell_type": "code",
      "source": [
        "# Évaluation du modèle sur les données de test pour obtenir la perte et la précision\n",
        "score = model.evaluate(x_test, y_test)"
      ],
      "metadata": {
        "id": "dA-HOMM9qZtN"
      },
      "execution_count": null,
      "outputs": []
    },
    {
      "cell_type": "code",
      "source": [
        "# Affichage de la perte et de la précision sur le jeu de données de test\n",
        "print('Test loss:', score[0])\n",
        "print('Test accuracy:', score[1])"
      ],
      "metadata": {
        "id": "-n7WxGpPqndT"
      },
      "execution_count": null,
      "outputs": []
    },
    {
      "cell_type": "code",
      "source": [
        "# Tracé de la courbe de perte\n",
        "plt.plot(history.history['loss'], label='Train Loss')\n",
        "plt.plot(history.history['val_loss'], label='Validation Loss')\n",
        "plt.xlabel('Epochs')\n",
        "plt.ylabel('Loss')\n",
        "plt.title('Loss Curves')\n",
        "plt.legend()\n",
        "plt.show()"
      ],
      "metadata": {
        "id": "CYPdsL1tqXXd"
      },
      "execution_count": null,
      "outputs": []
    },
    {
      "cell_type": "code",
      "source": [
        "# Tracé de la courbe de précision\n",
        "??\n",
        "plt.legend()\n",
        "plt.show()"
      ],
      "metadata": {
        "id": "UQOHpRMvq5Uw"
      },
      "execution_count": null,
      "outputs": []
    },
    {
      "cell_type": "code",
      "source": [
        "from sklearn.metrics import confusion_matrix\n",
        "import seaborn as sns\n",
        "import numpy as np"
      ],
      "metadata": {
        "id": "ywBANHF_rFc6"
      },
      "execution_count": null,
      "outputs": []
    },
    {
      "cell_type": "code",
      "source": [
        "# Prédictions du modèle sur les données de test\n",
        "y_pred = model.predict(x_test)\n",
        "y_pred_classes = np.argmax(y_pred, axis=1)\n",
        "y_true = np.argmax(y_test, axis=1)"
      ],
      "metadata": {
        "id": "wH6dSALKrTvq"
      },
      "execution_count": null,
      "outputs": []
    },
    {
      "cell_type": "code",
      "source": [
        "# Calcul de la matrice de confusion\n",
        "conf_matrix = confusion_matrix(?, ?)"
      ],
      "metadata": {
        "id": "-e824cvrrboV"
      },
      "execution_count": null,
      "outputs": []
    },
    {
      "cell_type": "code",
      "source": [
        "# Affichage de la matrice de confusion\n",
        "plt.figure(figsize=(10, 8))\n",
        "sns.heatmap(conf_matrix, annot=True, fmt='d', cmap='Blues')\n",
        "plt.xlabel('Predicted Label')\n",
        "plt.ylabel('True Label')\n",
        "plt.title('Confusion Matrix')\n",
        "plt.show()"
      ],
      "metadata": {
        "id": "d2JFJizfrl-k"
      },
      "execution_count": null,
      "outputs": []
    }
  ]
}