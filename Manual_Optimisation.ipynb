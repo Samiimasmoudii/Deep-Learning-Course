{
  "cells": [
    {
      "cell_type": "markdown",
      "metadata": {
        "id": "view-in-github",
        "colab_type": "text"
      },
      "source": [
        "<a href=\"https://colab.research.google.com/github/Samiimasmoudii/Deep-Learning-Course/blob/main/Manual_Optimisation.ipynb\" target=\"_parent\"><img src=\"https://colab.research.google.com/assets/colab-badge.svg\" alt=\"Open In Colab\"/></a>"
      ]
    },
    {
      "cell_type": "markdown",
      "metadata": {
        "id": "GK2jgLQsKtCt"
      },
      "source": [
        "Chargement et préparation des données CIFAR-10\n",
        "Le dataset CIFAR-10 contient 60 000 images couleur de dimensions 32x32 réparties en 10 classes."
      ]
    },
    {
      "cell_type": "code",
      "execution_count": null,
      "metadata": {
        "colab": {
          "base_uri": "https://localhost:8080/"
        },
        "id": "Ifku0lb8LaNh",
        "outputId": "23e88a52-0b03-4b58-9426-97745751825d"
      },
      "outputs": [
        {
          "output_type": "stream",
          "name": "stdout",
          "text": [
            "Downloading data from https://www.cs.toronto.edu/~kriz/cifar-10-python.tar.gz\n",
            "\u001b[1m170498071/170498071\u001b[0m \u001b[32m━━━━━━━━━━━━━━━━━━━━\u001b[0m\u001b[37m\u001b[0m \u001b[1m4s\u001b[0m 0us/step\n",
            "Testing configuration: filters=32, kernel_size=3, lr=0.001, dropout=0.3, epochs=5\n"
          ]
        },
        {
          "output_type": "stream",
          "name": "stderr",
          "text": [
            "/usr/local/lib/python3.10/dist-packages/keras/src/layers/convolutional/base_conv.py:107: UserWarning: Do not pass an `input_shape`/`input_dim` argument to a layer. When using Sequential models, prefer using an `Input(shape)` object as the first layer in the model instead.\n",
            "  super().__init__(activity_regularizer=activity_regularizer, **kwargs)\n"
          ]
        },
        {
          "output_type": "stream",
          "name": "stdout",
          "text": [
            "Testing configuration: filters=32, kernel_size=3, lr=0.001, dropout=0.3, epochs=10\n",
            "Testing configuration: filters=32, kernel_size=3, lr=0.001, dropout=0.5, epochs=5\n",
            "Testing configuration: filters=32, kernel_size=3, lr=0.001, dropout=0.5, epochs=10\n",
            "Testing configuration: filters=32, kernel_size=3, lr=0.01, dropout=0.3, epochs=5\n",
            "Testing configuration: filters=32, kernel_size=3, lr=0.01, dropout=0.3, epochs=10\n",
            "Testing configuration: filters=32, kernel_size=3, lr=0.01, dropout=0.5, epochs=5\n",
            "Testing configuration: filters=32, kernel_size=3, lr=0.01, dropout=0.5, epochs=10\n",
            "Testing configuration: filters=32, kernel_size=5, lr=0.001, dropout=0.3, epochs=5\n",
            "Testing configuration: filters=32, kernel_size=5, lr=0.001, dropout=0.3, epochs=10\n",
            "Testing configuration: filters=32, kernel_size=5, lr=0.001, dropout=0.5, epochs=5\n",
            "Testing configuration: filters=32, kernel_size=5, lr=0.001, dropout=0.5, epochs=10\n",
            "Testing configuration: filters=32, kernel_size=5, lr=0.01, dropout=0.3, epochs=5\n",
            "Testing configuration: filters=32, kernel_size=5, lr=0.01, dropout=0.3, epochs=10\n",
            "Testing configuration: filters=32, kernel_size=5, lr=0.01, dropout=0.5, epochs=5\n",
            "Testing configuration: filters=32, kernel_size=5, lr=0.01, dropout=0.5, epochs=10\n",
            "Testing configuration: filters=64, kernel_size=3, lr=0.001, dropout=0.3, epochs=5\n",
            "Testing configuration: filters=64, kernel_size=3, lr=0.001, dropout=0.3, epochs=10\n",
            "Testing configuration: filters=64, kernel_size=3, lr=0.001, dropout=0.5, epochs=5\n",
            "Testing configuration: filters=64, kernel_size=3, lr=0.001, dropout=0.5, epochs=10\n",
            "Testing configuration: filters=64, kernel_size=3, lr=0.01, dropout=0.3, epochs=5\n",
            "Testing configuration: filters=64, kernel_size=3, lr=0.01, dropout=0.3, epochs=10\n",
            "Testing configuration: filters=64, kernel_size=3, lr=0.01, dropout=0.5, epochs=5\n",
            "Testing configuration: filters=64, kernel_size=3, lr=0.01, dropout=0.5, epochs=10\n",
            "Testing configuration: filters=64, kernel_size=5, lr=0.001, dropout=0.3, epochs=5\n",
            "Testing configuration: filters=64, kernel_size=5, lr=0.001, dropout=0.3, epochs=10\n",
            "Testing configuration: filters=64, kernel_size=5, lr=0.001, dropout=0.5, epochs=5\n",
            "Testing configuration: filters=64, kernel_size=5, lr=0.001, dropout=0.5, epochs=10\n",
            "Testing configuration: filters=64, kernel_size=5, lr=0.01, dropout=0.3, epochs=5\n",
            "Testing configuration: filters=64, kernel_size=5, lr=0.01, dropout=0.3, epochs=10\n",
            "Testing configuration: filters=64, kernel_size=5, lr=0.01, dropout=0.5, epochs=5\n",
            "Testing configuration: filters=64, kernel_size=5, lr=0.01, dropout=0.5, epochs=10\n",
            "Best Grid Search Parameters: {'num_filters': 64, 'kernel_size': 3, 'learning_rate': 0.001, 'dropout_rate': 0.3, 'epochs': 10} with accuracy: 0.6466000080108643\n"
          ]
        }
      ],
      "source": [
        "import tensorflow as tf\n",
        "from tensorflow.keras.models import Sequential\n",
        "from tensorflow.keras.layers import Conv2D, MaxPooling2D, Flatten, Dense, Dropout\n",
        "from sklearn.model_selection import train_test_split\n",
        "import numpy as np\n",
        "import random\n",
        "from scipy.stats import uniform\n",
        "\n",
        "\n",
        "# Charger le dataset CIFAR-10\n",
        "(x_train, y_train), (x_test, y_test) = tf.keras.datasets.cifar10.load_data()\n",
        "\n",
        "# Normalisation des données (les valeurs des pixels sont mises entre 0 et 1)\n",
        "x_train = x_train.astype('float32') / 255.0\n",
        "x_test = x_test.astype('float32') / 255.0\n",
        "\n",
        "# Encodage des étiquettes (one-hot encoding)\n",
        "y_train = tf.keras.utils.to_categorical(y_train, num_classes=10)\n",
        "y_test = tf.keras.utils.to_categorical(y_test, num_classes=10)\n",
        "\n",
        "# Diviser les données d'entraînement en un ensemble d'entraînement et de validation\n",
        "x_train, x_val, y_train, y_val = train_test_split(x_train, y_train, test_size=0.2, random_state=42)\n",
        "\n",
        "# Fonction pour créer un CNN avec des hyperparamètres configurables\n",
        "def create_cnn(num_filters=32, kernel_size=3, learning_rate=0.001, dropout_rate=0.5):\n",
        "    model = Sequential([\n",
        "        Conv2D(num_filters, (kernel_size, kernel_size), activation='relu', input_shape=(32, 32, 3)),\n",
        "        MaxPooling2D(pool_size=(2, 2)),\n",
        "        Flatten(),\n",
        "        Dense(128, activation='relu'),\n",
        "        Dropout(dropout_rate),\n",
        "        Dense(10, activation='softmax')\n",
        "    ])\n",
        "    optimizer = tf.keras.optimizers.Adam(learning_rate=learning_rate)\n",
        "    model.compile(optimizer=optimizer, loss='categorical_crossentropy', metrics=['accuracy'])\n",
        "    return model\n",
        "\n",
        "# ----------------------------------------------------------------------------------------------------------------------\n",
        "# 1. GRID SEARCH : Recherche exhaustive sur un ensemble fixe d'hyperparamètres\n",
        "# ----------------------------------------------------------------------------------------------------------------------\n",
        "\n",
        "# Définir les hyperparamètres à explorer\n",
        "grid_params = {\n",
        "    'num_filters': [32, 64],        # Nombre de filtres\n",
        "    'kernel_size': [3, 5],          # Taille des kernels\n",
        "    'learning_rate': [0.001, 0.01], # Taux d'apprentissage\n",
        "    'dropout_rate': [0.3, 0.5],     # Taux de dropout\n",
        "    'epochs': [5, 10]               # Nombre d'époques\n",
        "}\n",
        "\n",
        "# Exploration de toutes les combinaisons\n",
        "best_accuracy = 0\n",
        "best_params = None\n",
        "\n",
        "for num_filters in grid_params['num_filters']:\n",
        "    for kernel_size in grid_params['kernel_size']:\n",
        "        for learning_rate in grid_params['learning_rate']:\n",
        "            for dropout_rate in grid_params['dropout_rate']:\n",
        "                for epochs in grid_params['epochs']:\n",
        "                    print(f\"Testing configuration: filters={num_filters}, kernel_size={kernel_size}, lr={learning_rate}, \"\n",
        "                          f\"dropout={dropout_rate}, epochs={epochs}\")\n",
        "\n",
        "                    model = create_cnn(num_filters, kernel_size, learning_rate, dropout_rate)\n",
        "                    history = model.fit(x_train, y_train, validation_data=(x_val, y_val), epochs=epochs, batch_size=32, verbose=0)\n",
        "\n",
        "                    val_accuracy = max(history.history['val_accuracy'])\n",
        "                    if val_accuracy > best_accuracy:\n",
        "                        best_accuracy = val_accuracy\n",
        "                        best_params = {\n",
        "                            'num_filters': num_filters,\n",
        "                            'kernel_size': kernel_size,\n",
        "                            'learning_rate': learning_rate,\n",
        "                            'dropout_rate': dropout_rate,\n",
        "                            'epochs': epochs\n",
        "                        }\n",
        "\n",
        "print(f\"Best Grid Search Parameters: {best_params} with accuracy: {best_accuracy}\")\n",
        "\n"
      ]
    },
    {
      "cell_type": "code",
      "execution_count": null,
      "metadata": {
        "id": "nGJj06myNIl3",
        "colab": {
          "base_uri": "https://localhost:8080/"
        },
        "outputId": "b21c7f43-0f95-4393-8dec-b591d435300a"
      },
      "outputs": [
        {
          "output_type": "stream",
          "name": "stdout",
          "text": [
            "Testing random configuration: filters=16, kernel_size=3, lr=0.003668908770406429, dropout=0.2649199115291976, epochs=5\n",
            "Testing random configuration: filters=32, kernel_size=7, lr=0.007860516713686242, dropout=0.4323308230259747, epochs=5\n",
            "Testing random configuration: filters=16, kernel_size=3, lr=0.005028749992460761, dropout=0.3036293926242864, epochs=15\n",
            "Testing random configuration: filters=64, kernel_size=7, lr=0.005028749992460761, dropout=0.6282445426721383, epochs=15\n"
          ]
        }
      ],
      "source": [
        "# ----------------------------------------------------------------------------------------------------------------------\n",
        "# 2. RANDOM SEARCH : Recherche aléatoire sur un espace d'hyperparamètres défini\n",
        "# ----------------------------------------------------------------------------------------------------------------------\n",
        "\n",
        "# Définir l'espace des hyperparamètres\n",
        "random_params = {\n",
        "    'num_filters': [16, 32, 64, 128],\n",
        "    'kernel_size': [3, 5, 7],\n",
        "    'learning_rate': uniform(0.0001, 0.01).rvs(10),  # Tirages aléatoires\n",
        "    'dropout_rate': uniform(0.2, 0.5).rvs(10),       # Tirages aléatoires\n",
        "    'epochs': [5, 10, 15]\n",
        "}\n",
        "\n",
        "num_trials = 10\n",
        "best_accuracy_random = 0\n",
        "best_params_random = None\n",
        "\n",
        "for i in range(num_trials):\n",
        "    # Tirer des valeurs aléatoires\n",
        "    num_filters = random.choice(random_params['num_filters'])\n",
        "    kernel_size = random.choice(random_params['kernel_size'])\n",
        "    learning_rate = random.choice(random_params['learning_rate'])\n",
        "    dropout_rate = random.choice(random_params['dropout_rate'])\n",
        "    epochs = random.choice(random_params['epochs'])\n",
        "\n",
        "    print(f\"Testing random configuration: filters={num_filters}, kernel_size={kernel_size}, lr={learning_rate}, \"\n",
        "          f\"dropout={dropout_rate}, epochs={epochs}\")\n",
        "\n",
        "    model = create_cnn(num_filters, kernel_size, learning_rate, dropout_rate)\n",
        "    history = model.fit(x_train, y_train, validation_data=(x_val, y_val), epochs=epochs, batch_size=32, verbose=0)\n",
        "\n",
        "    val_accuracy = max(history.history['val_accuracy'])\n",
        "    if val_accuracy > best_accuracy_random:\n",
        "        best_accuracy_random = val_accuracy\n",
        "        best_params_random = {\n",
        "            'num_filters': num_filters,\n",
        "            'kernel_size': kernel_size,\n",
        "            'learning_rate': learning_rate,\n",
        "            'dropout_rate': dropout_rate,\n",
        "            'epochs': epochs\n",
        "        }\n",
        "\n",
        "print(f\"Best Random Search Parameters: {best_params_random} with accuracy: {best_accuracy_random}\")\n",
        "\n"
      ]
    }
  ],
  "metadata": {
    "colab": {
      "provenance": [],
      "include_colab_link": true
    },
    "kernelspec": {
      "display_name": "Python 3",
      "name": "python3"
    },
    "language_info": {
      "name": "python"
    }
  },
  "nbformat": 4,
  "nbformat_minor": 0
}